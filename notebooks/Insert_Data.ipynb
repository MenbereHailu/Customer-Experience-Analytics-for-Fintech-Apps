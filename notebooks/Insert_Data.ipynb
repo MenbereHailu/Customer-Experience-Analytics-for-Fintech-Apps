{
 "cells": [
  {
   "cell_type": "code",
   "execution_count": 1,
   "id": "a49acd9c",
   "metadata": {},
   "outputs": [
    {
     "name": "stdout",
     "output_type": "stream",
     "text": [
      "Collecting pyodbc\n",
      "  Downloading pyodbc-5.2.0-cp311-cp311-win_amd64.whl.metadata (2.8 kB)\n",
      "Requirement already satisfied: pandas in c:\\users\\hp\\appdata\\local\\programs\\python\\python311\\lib\\site-packages (2.1.2)\n",
      "Requirement already satisfied: numpy<2,>=1.23.2 in c:\\users\\hp\\appdata\\local\\programs\\python\\python311\\lib\\site-packages (from pandas) (1.26.1)\n",
      "Requirement already satisfied: python-dateutil>=2.8.2 in c:\\users\\hp\\appdata\\local\\programs\\python\\python311\\lib\\site-packages (from pandas) (2.8.2)\n",
      "Requirement already satisfied: pytz>=2020.1 in c:\\users\\hp\\appdata\\local\\programs\\python\\python311\\lib\\site-packages (from pandas) (2023.3.post1)\n",
      "Requirement already satisfied: tzdata>=2022.1 in c:\\users\\hp\\appdata\\local\\programs\\python\\python311\\lib\\site-packages (from pandas) (2023.3)\n",
      "Requirement already satisfied: six>=1.5 in c:\\users\\hp\\appdata\\local\\programs\\python\\python311\\lib\\site-packages (from python-dateutil>=2.8.2->pandas) (1.16.0)\n",
      "Downloading pyodbc-5.2.0-cp311-cp311-win_amd64.whl (68 kB)\n",
      "Installing collected packages: pyodbc\n",
      "Successfully installed pyodbc-5.2.0\n",
      "Note: you may need to restart the kernel to use updated packages.\n"
     ]
    }
   ],
   "source": [
    "pip install pyodbc pandas\n"
   ]
  },
  {
   "cell_type": "code",
   "execution_count": 4,
   "id": "a8bc381a",
   "metadata": {},
   "outputs": [],
   "source": [
    "import pyodbc\n",
    "import pandas as pd\n",
    "\n",
    "# Example connection string (update with your server and credentials)\n",
    "conn = pyodbc.connect(\n",
    "    'DRIVER={ODBC Driver 17 for SQL Server};'\n",
    "    'SERVER=LAPTOP-R0KQMS9S\\\\MSSQLSERVER02;'\n",
    "    'DATABASE=Bank_Review;'\n",
    "    'Trusted_Connection=yes'\n",
    ")\n",
    "cursor = conn.cursor()\n",
    "\n"
   ]
  },
  {
   "cell_type": "code",
   "execution_count": 10,
   "id": "97ac230e",
   "metadata": {},
   "outputs": [
    {
     "name": "stdout",
     "output_type": "stream",
     "text": [
      "                                              review  rating        date  \\\n",
      "0       the app is proactive and a good connections.       5  2025-06-05   \n",
      "1    I cannot send to cbebirr app. through this app.       3  2025-06-05   \n",
      "2                                               good       4  2025-06-05   \n",
      "3                                     not functional       1  2025-06-04   \n",
      "4  everytime you uninstall the app you have to re...       1  2025-06-04   \n",
      "\n",
      "                          bank       source  \\\n",
      "0  Commercial Bank of Ethiopia  Google Play   \n",
      "1  Commercial Bank of Ethiopia  Google Play   \n",
      "2  Commercial Bank of Ethiopia  Google Play   \n",
      "3  Commercial Bank of Ethiopia  Google Play   \n",
      "4  Commercial Bank of Ethiopia  Google Play   \n",
      "\n",
      "                                        cleaned_text sentiment  \\\n",
      "0                      app proactive good connection  POSITIVE   \n",
      "1                               send cbebirr app app  NEGATIVE   \n",
      "2                                               good  POSITIVE   \n",
      "3                                         functional  POSITIVE   \n",
      "4  everytime uninstall app reach physically oldy ...  NEGATIVE   \n",
      "\n",
      "   sentiment_score sentiment_label     themes  \n",
      "0         0.999832        positive  ['Other']  \n",
      "1         0.979366        negative  ['Other']  \n",
      "2         0.999816        positive  ['Other']  \n",
      "3         0.999333        positive  ['Other']  \n",
      "4         0.994766        negative  ['Other']  \n"
     ]
    }
   ],
   "source": [
    "import pandas as pd\n",
    "\n",
    "# Load cleaned data\n",
    "df = pd.read_csv(\"C:/Users/hp/OneDrive - menbimarket/Desktop/Customer-Experience-Analytics-for-Fintech-Apps/data/task2_sentiment_analysis.csv\")\n",
    "\n",
    "# Check the structure\n",
    "print(df.head())\n",
    "\n",
    "\n"
   ]
  },
  {
   "cell_type": "code",
   "execution_count": 22,
   "id": "f2cc348d",
   "metadata": {},
   "outputs": [],
   "source": [
    "# Convert to float and fill NaN with a default (e.g., 0.0 or skip the row)\n",
    "df['sentiment_score'] = pd.to_numeric(df['sentiment_score'], errors='coerce')  # Convert invalid to NaN\n",
    "df = df.dropna(subset=['sentiment_score'])  # Optionally drop rows with invalid scores\n"
   ]
  },
  {
   "cell_type": "code",
   "execution_count": 23,
   "id": "70a9ba49",
   "metadata": {},
   "outputs": [],
   "source": [
    "df['sentiment_score'] = pd.to_numeric(df['sentiment_score'], errors='coerce').fillna(0.0)\n"
   ]
  },
  {
   "cell_type": "code",
   "execution_count": 28,
   "id": "9750e778",
   "metadata": {},
   "outputs": [],
   "source": [
    "# Step 1: Insert banks and build a mapping\n",
    "bank_names = df['bank'].unique()\n",
    "bank_id_map = {}\n",
    "\n",
    "for bank in bank_names:\n",
    "    cursor.execute(\"INSERT INTO banks (bank_name, app_name) VALUES (?, ?)\", (bank, f\"{bank} App\"))\n",
    "    conn.commit()\n",
    "    cursor.execute(\"SELECT bank_id FROM banks WHERE bank_name = ?\", (bank,))\n",
    "    bank_id_map[bank] = cursor.fetchone()[0]\n",
    "\n"
   ]
  },
  {
   "cell_type": "code",
   "execution_count": 31,
   "id": "a849d9e2",
   "metadata": {},
   "outputs": [
    {
     "name": "stderr",
     "output_type": "stream",
     "text": [
      "C:\\Users\\hp\\AppData\\Local\\Temp\\ipykernel_21888\\4008231484.py:1: UserWarning: pandas only supports SQLAlchemy connectable (engine/connection) or database string URI or sqlite3 DBAPI2 connection. Other DBAPI2 objects are not tested. Please consider using SQLAlchemy.\n",
      "  df_banks = pd.read_sql_query(\"SELECT * FROM banks\", conn)\n"
     ]
    },
    {
     "data": {
      "text/html": [
       "<div>\n",
       "<style scoped>\n",
       "    .dataframe tbody tr th:only-of-type {\n",
       "        vertical-align: middle;\n",
       "    }\n",
       "\n",
       "    .dataframe tbody tr th {\n",
       "        vertical-align: top;\n",
       "    }\n",
       "\n",
       "    .dataframe thead th {\n",
       "        text-align: right;\n",
       "    }\n",
       "</style>\n",
       "<table border=\"1\" class=\"dataframe\">\n",
       "  <thead>\n",
       "    <tr style=\"text-align: right;\">\n",
       "      <th></th>\n",
       "      <th>bank_id</th>\n",
       "      <th>bank_name</th>\n",
       "      <th>app_name</th>\n",
       "      <th>country</th>\n",
       "    </tr>\n",
       "  </thead>\n",
       "  <tbody>\n",
       "    <tr>\n",
       "      <th>0</th>\n",
       "      <td>1</td>\n",
       "      <td>Commercial Bank of Ethiopia</td>\n",
       "      <td>Commercial Bank of Ethiopia App</td>\n",
       "      <td>Ethiopia</td>\n",
       "    </tr>\n",
       "    <tr>\n",
       "      <th>1</th>\n",
       "      <td>2</td>\n",
       "      <td>Bank of Abyssinia</td>\n",
       "      <td>Bank of Abyssinia App</td>\n",
       "      <td>Ethiopia</td>\n",
       "    </tr>\n",
       "    <tr>\n",
       "      <th>2</th>\n",
       "      <td>3</td>\n",
       "      <td>Dashen Bank</td>\n",
       "      <td>Dashen Bank App</td>\n",
       "      <td>Ethiopia</td>\n",
       "    </tr>\n",
       "  </tbody>\n",
       "</table>\n",
       "</div>"
      ],
      "text/plain": [
       "   bank_id                    bank_name                         app_name  \\\n",
       "0        1  Commercial Bank of Ethiopia  Commercial Bank of Ethiopia App   \n",
       "1        2            Bank of Abyssinia            Bank of Abyssinia App   \n",
       "2        3                  Dashen Bank                  Dashen Bank App   \n",
       "\n",
       "    country  \n",
       "0  Ethiopia  \n",
       "1  Ethiopia  \n",
       "2  Ethiopia  "
      ]
     },
     "execution_count": 31,
     "metadata": {},
     "output_type": "execute_result"
    }
   ],
   "source": [
    "df_banks = pd.read_sql_query(\"SELECT * FROM banks\", conn)\n",
    "df_banks.head()"
   ]
  },
  {
   "cell_type": "code",
   "execution_count": 26,
   "id": "dff1a341",
   "metadata": {},
   "outputs": [
    {
     "name": "stdout",
     "output_type": "stream",
     "text": [
      "Country column updated successfully!\n"
     ]
    }
   ],
   "source": [
    "# Run the UPDATE query\n",
    "cursor.execute(\"UPDATE banks SET country = 'Ethiopia'\")\n",
    "conn.commit()\n",
    "\n",
    "print(\"Country column updated successfully!\")\n"
   ]
  },
  {
   "cell_type": "code",
   "execution_count": 40,
   "id": "ec7d3803",
   "metadata": {},
   "outputs": [
    {
     "data": {
      "text/html": [
       "<div>\n",
       "<style scoped>\n",
       "    .dataframe tbody tr th:only-of-type {\n",
       "        vertical-align: middle;\n",
       "    }\n",
       "\n",
       "    .dataframe tbody tr th {\n",
       "        vertical-align: top;\n",
       "    }\n",
       "\n",
       "    .dataframe thead th {\n",
       "        text-align: right;\n",
       "    }\n",
       "</style>\n",
       "<table border=\"1\" class=\"dataframe\">\n",
       "  <thead>\n",
       "    <tr style=\"text-align: right;\">\n",
       "      <th></th>\n",
       "      <th>bank_id</th>\n",
       "      <th>bank_name</th>\n",
       "      <th>app_name</th>\n",
       "      <th>country</th>\n",
       "    </tr>\n",
       "  </thead>\n",
       "  <tbody>\n",
       "    <tr>\n",
       "      <th>0</th>\n",
       "      <td>1</td>\n",
       "      <td>Commercial Bank of Ethiopia</td>\n",
       "      <td>Commercial Bank of Ethiopia App</td>\n",
       "      <td>Ethiopia</td>\n",
       "    </tr>\n",
       "    <tr>\n",
       "      <th>1</th>\n",
       "      <td>2</td>\n",
       "      <td>Bank of Abyssinia</td>\n",
       "      <td>Bank of Abyssinia App</td>\n",
       "      <td>Ethiopia</td>\n",
       "    </tr>\n",
       "    <tr>\n",
       "      <th>2</th>\n",
       "      <td>3</td>\n",
       "      <td>Dashen Bank</td>\n",
       "      <td>Dashen Bank App</td>\n",
       "      <td>Ethiopia</td>\n",
       "    </tr>\n",
       "  </tbody>\n",
       "</table>\n",
       "</div>"
      ],
      "text/plain": [
       "   bank_id                    bank_name                         app_name  \\\n",
       "0        1  Commercial Bank of Ethiopia  Commercial Bank of Ethiopia App   \n",
       "1        2            Bank of Abyssinia            Bank of Abyssinia App   \n",
       "2        3                  Dashen Bank                  Dashen Bank App   \n",
       "\n",
       "    country  \n",
       "0  Ethiopia  \n",
       "1  Ethiopia  \n",
       "2  Ethiopia  "
      ]
     },
     "execution_count": 40,
     "metadata": {},
     "output_type": "execute_result"
    }
   ],
   "source": [
    "df_banks.head()"
   ]
  },
  {
   "cell_type": "code",
   "execution_count": 39,
   "id": "e05c1d28",
   "metadata": {},
   "outputs": [],
   "source": [
    "df['sentiment_score']=df['sentiment_score'].apply(pd.to_numeric, errors='coerce')\n",
    "\n",
    "\n"
   ]
  },
  {
   "cell_type": "code",
   "execution_count": 41,
   "id": "2dfd263d",
   "metadata": {},
   "outputs": [
    {
     "data": {
      "text/plain": [
       "0       0.999832\n",
       "1       0.979366\n",
       "2       0.999816\n",
       "3       0.999333\n",
       "4       0.994766\n",
       "          ...   \n",
       "1420    0.999570\n",
       "1421    0.999627\n",
       "1422    0.999860\n",
       "1423    0.999770\n",
       "1424    0.999778\n",
       "Name: sentiment_score, Length: 1425, dtype: float64"
      ]
     },
     "execution_count": 41,
     "metadata": {},
     "output_type": "execute_result"
    }
   ],
   "source": [
    "df['sentiment_score']"
   ]
  },
  {
   "cell_type": "code",
   "execution_count": 44,
   "id": "1b5bbf66",
   "metadata": {},
   "outputs": [
    {
     "name": "stdout",
     "output_type": "stream",
     "text": [
      "{'Commercial Bank of Ethiopia': 1, 'Bank of Abyssinia': 2, 'Dashen Bank': 3}\n"
     ]
    }
   ],
   "source": [
    "# Assuming you have a connection object 'conn' and a cursor 'cursor'\n",
    "cursor = conn.cursor()\n",
    "\n",
    "# Query bank id and bank name from banks table\n",
    "cursor.execute(\"SELECT bank_id, bank_name FROM banks\")\n",
    "banks = cursor.fetchall()\n",
    "\n",
    "# Create a dictionary: key = bank_name, value = bank_id\n",
    "bank_id_map = {bank_name.strip(): bank_id for bank_id, bank_name in banks}\n",
    "\n",
    "print(bank_id_map)  # to verify\n",
    "\n"
   ]
  },
  {
   "cell_type": "code",
   "execution_count": 52,
   "id": "7c15b102",
   "metadata": {},
   "outputs": [
    {
     "data": {
      "text/plain": [
       "{'Commercial Bank of Ethiopia': 1, 'Bank of Abyssinia': 2, 'Dashen Bank': 3}"
      ]
     },
     "execution_count": 52,
     "metadata": {},
     "output_type": "execute_result"
    }
   ],
   "source": [
    "# --- Step 3: Get bank_id mapping from the database ---\n",
    "cursor.execute(\"SELECT bank_id, bank_name FROM banks\")\n",
    "bank_map = {row.bank_name: row.bank_id for row in cursor.fetchall()}\n",
    "bank_map"
   ]
  },
  {
   "cell_type": "code",
   "execution_count": 54,
   "id": "500d7fc5",
   "metadata": {},
   "outputs": [],
   "source": [
    "# --- Step 4: Map bank_name → bank_id in the DataFrame ---\n",
    "df['bank_id'] = df['bank'].map(bank_map)\n"
   ]
  },
  {
   "cell_type": "code",
   "execution_count": 55,
   "id": "1658d617",
   "metadata": {},
   "outputs": [
    {
     "data": {
      "text/html": [
       "<div>\n",
       "<style scoped>\n",
       "    .dataframe tbody tr th:only-of-type {\n",
       "        vertical-align: middle;\n",
       "    }\n",
       "\n",
       "    .dataframe tbody tr th {\n",
       "        vertical-align: top;\n",
       "    }\n",
       "\n",
       "    .dataframe thead th {\n",
       "        text-align: right;\n",
       "    }\n",
       "</style>\n",
       "<table border=\"1\" class=\"dataframe\">\n",
       "  <thead>\n",
       "    <tr style=\"text-align: right;\">\n",
       "      <th></th>\n",
       "      <th>review</th>\n",
       "      <th>rating</th>\n",
       "      <th>date</th>\n",
       "      <th>bank</th>\n",
       "      <th>source</th>\n",
       "      <th>cleaned_text</th>\n",
       "      <th>sentiment</th>\n",
       "      <th>sentiment_score</th>\n",
       "      <th>sentiment_label</th>\n",
       "      <th>themes</th>\n",
       "      <th>bank_id</th>\n",
       "    </tr>\n",
       "  </thead>\n",
       "  <tbody>\n",
       "    <tr>\n",
       "      <th>0</th>\n",
       "      <td>the app is proactive and a good connections.</td>\n",
       "      <td>5</td>\n",
       "      <td>2025-06-05</td>\n",
       "      <td>Commercial Bank of Ethiopia</td>\n",
       "      <td>Google Play</td>\n",
       "      <td>app proactive good connection</td>\n",
       "      <td>POSITIVE</td>\n",
       "      <td>0.999832</td>\n",
       "      <td>positive</td>\n",
       "      <td>['Other']</td>\n",
       "      <td>1</td>\n",
       "    </tr>\n",
       "    <tr>\n",
       "      <th>1</th>\n",
       "      <td>I cannot send to cbebirr app. through this app.</td>\n",
       "      <td>3</td>\n",
       "      <td>2025-06-05</td>\n",
       "      <td>Commercial Bank of Ethiopia</td>\n",
       "      <td>Google Play</td>\n",
       "      <td>send cbebirr app app</td>\n",
       "      <td>NEGATIVE</td>\n",
       "      <td>0.979366</td>\n",
       "      <td>negative</td>\n",
       "      <td>['Other']</td>\n",
       "      <td>1</td>\n",
       "    </tr>\n",
       "    <tr>\n",
       "      <th>2</th>\n",
       "      <td>good</td>\n",
       "      <td>4</td>\n",
       "      <td>2025-06-05</td>\n",
       "      <td>Commercial Bank of Ethiopia</td>\n",
       "      <td>Google Play</td>\n",
       "      <td>good</td>\n",
       "      <td>POSITIVE</td>\n",
       "      <td>0.999816</td>\n",
       "      <td>positive</td>\n",
       "      <td>['Other']</td>\n",
       "      <td>1</td>\n",
       "    </tr>\n",
       "    <tr>\n",
       "      <th>3</th>\n",
       "      <td>not functional</td>\n",
       "      <td>1</td>\n",
       "      <td>2025-06-04</td>\n",
       "      <td>Commercial Bank of Ethiopia</td>\n",
       "      <td>Google Play</td>\n",
       "      <td>functional</td>\n",
       "      <td>POSITIVE</td>\n",
       "      <td>0.999333</td>\n",
       "      <td>positive</td>\n",
       "      <td>['Other']</td>\n",
       "      <td>1</td>\n",
       "    </tr>\n",
       "    <tr>\n",
       "      <th>4</th>\n",
       "      <td>everytime you uninstall the app you have to re...</td>\n",
       "      <td>1</td>\n",
       "      <td>2025-06-04</td>\n",
       "      <td>Commercial Bank of Ethiopia</td>\n",
       "      <td>Google Play</td>\n",
       "      <td>everytime uninstall app reach physically oldy ...</td>\n",
       "      <td>NEGATIVE</td>\n",
       "      <td>0.994766</td>\n",
       "      <td>negative</td>\n",
       "      <td>['Other']</td>\n",
       "      <td>1</td>\n",
       "    </tr>\n",
       "    <tr>\n",
       "      <th>...</th>\n",
       "      <td>...</td>\n",
       "      <td>...</td>\n",
       "      <td>...</td>\n",
       "      <td>...</td>\n",
       "      <td>...</td>\n",
       "      <td>...</td>\n",
       "      <td>...</td>\n",
       "      <td>...</td>\n",
       "      <td>...</td>\n",
       "      <td>...</td>\n",
       "      <td>...</td>\n",
       "    </tr>\n",
       "    <tr>\n",
       "      <th>1420</th>\n",
       "      <td>Best</td>\n",
       "      <td>5</td>\n",
       "      <td>2025-01-13</td>\n",
       "      <td>Dashen Bank</td>\n",
       "      <td>Google Play</td>\n",
       "      <td>well</td>\n",
       "      <td>POSITIVE</td>\n",
       "      <td>0.999570</td>\n",
       "      <td>positive</td>\n",
       "      <td>['Other']</td>\n",
       "      <td>3</td>\n",
       "    </tr>\n",
       "    <tr>\n",
       "      <th>1421</th>\n",
       "      <td>Waw Great and innovated,user friendly, always ...</td>\n",
       "      <td>5</td>\n",
       "      <td>2025-01-13</td>\n",
       "      <td>Dashen Bank</td>\n",
       "      <td>Google Play</td>\n",
       "      <td>waw great innovateduser friendly always one st...</td>\n",
       "      <td>POSITIVE</td>\n",
       "      <td>0.999627</td>\n",
       "      <td>positive</td>\n",
       "      <td>['Other']</td>\n",
       "      <td>3</td>\n",
       "    </tr>\n",
       "    <tr>\n",
       "      <th>1422</th>\n",
       "      <td>It's Best waww 🙏</td>\n",
       "      <td>5</td>\n",
       "      <td>2025-01-12</td>\n",
       "      <td>Dashen Bank</td>\n",
       "      <td>Google Play</td>\n",
       "      <td>good waww</td>\n",
       "      <td>POSITIVE</td>\n",
       "      <td>0.999860</td>\n",
       "      <td>positive</td>\n",
       "      <td>['Other']</td>\n",
       "      <td>3</td>\n",
       "    </tr>\n",
       "    <tr>\n",
       "      <th>1423</th>\n",
       "      <td>Always one step ahead</td>\n",
       "      <td>5</td>\n",
       "      <td>2025-01-12</td>\n",
       "      <td>Dashen Bank</td>\n",
       "      <td>Google Play</td>\n",
       "      <td>always one step ahead</td>\n",
       "      <td>POSITIVE</td>\n",
       "      <td>0.999770</td>\n",
       "      <td>positive</td>\n",
       "      <td>['Other']</td>\n",
       "      <td>3</td>\n",
       "    </tr>\n",
       "    <tr>\n",
       "      <th>1424</th>\n",
       "      <td>Like Me, I Hope It Works Better Than Before.</td>\n",
       "      <td>5</td>\n",
       "      <td>2025-01-11</td>\n",
       "      <td>Dashen Bank</td>\n",
       "      <td>Google Play</td>\n",
       "      <td>like hope work well</td>\n",
       "      <td>POSITIVE</td>\n",
       "      <td>0.999778</td>\n",
       "      <td>positive</td>\n",
       "      <td>['Other']</td>\n",
       "      <td>3</td>\n",
       "    </tr>\n",
       "  </tbody>\n",
       "</table>\n",
       "<p>1425 rows × 11 columns</p>\n",
       "</div>"
      ],
      "text/plain": [
       "                                                 review  rating        date  \\\n",
       "0          the app is proactive and a good connections.       5  2025-06-05   \n",
       "1       I cannot send to cbebirr app. through this app.       3  2025-06-05   \n",
       "2                                                  good       4  2025-06-05   \n",
       "3                                        not functional       1  2025-06-04   \n",
       "4     everytime you uninstall the app you have to re...       1  2025-06-04   \n",
       "...                                                 ...     ...         ...   \n",
       "1420                                               Best       5  2025-01-13   \n",
       "1421  Waw Great and innovated,user friendly, always ...       5  2025-01-13   \n",
       "1422                                   It's Best waww 🙏       5  2025-01-12   \n",
       "1423                              Always one step ahead       5  2025-01-12   \n",
       "1424       Like Me, I Hope It Works Better Than Before.       5  2025-01-11   \n",
       "\n",
       "                             bank       source  \\\n",
       "0     Commercial Bank of Ethiopia  Google Play   \n",
       "1     Commercial Bank of Ethiopia  Google Play   \n",
       "2     Commercial Bank of Ethiopia  Google Play   \n",
       "3     Commercial Bank of Ethiopia  Google Play   \n",
       "4     Commercial Bank of Ethiopia  Google Play   \n",
       "...                           ...          ...   \n",
       "1420                  Dashen Bank  Google Play   \n",
       "1421                  Dashen Bank  Google Play   \n",
       "1422                  Dashen Bank  Google Play   \n",
       "1423                  Dashen Bank  Google Play   \n",
       "1424                  Dashen Bank  Google Play   \n",
       "\n",
       "                                           cleaned_text sentiment  \\\n",
       "0                         app proactive good connection  POSITIVE   \n",
       "1                                  send cbebirr app app  NEGATIVE   \n",
       "2                                                  good  POSITIVE   \n",
       "3                                            functional  POSITIVE   \n",
       "4     everytime uninstall app reach physically oldy ...  NEGATIVE   \n",
       "...                                                 ...       ...   \n",
       "1420                                               well  POSITIVE   \n",
       "1421  waw great innovateduser friendly always one st...  POSITIVE   \n",
       "1422                                          good waww  POSITIVE   \n",
       "1423                              always one step ahead  POSITIVE   \n",
       "1424                                like hope work well  POSITIVE   \n",
       "\n",
       "      sentiment_score sentiment_label     themes  bank_id  \n",
       "0            0.999832        positive  ['Other']        1  \n",
       "1            0.979366        negative  ['Other']        1  \n",
       "2            0.999816        positive  ['Other']        1  \n",
       "3            0.999333        positive  ['Other']        1  \n",
       "4            0.994766        negative  ['Other']        1  \n",
       "...               ...             ...        ...      ...  \n",
       "1420         0.999570        positive  ['Other']        3  \n",
       "1421         0.999627        positive  ['Other']        3  \n",
       "1422         0.999860        positive  ['Other']        3  \n",
       "1423         0.999770        positive  ['Other']        3  \n",
       "1424         0.999778        positive  ['Other']        3  \n",
       "\n",
       "[1425 rows x 11 columns]"
      ]
     },
     "execution_count": 55,
     "metadata": {},
     "output_type": "execute_result"
    }
   ],
   "source": [
    "df"
   ]
  },
  {
   "cell_type": "code",
   "execution_count": 56,
   "id": "432f9bc9",
   "metadata": {},
   "outputs": [],
   "source": [
    "if df['bank_id'].isnull().any():\n",
    "    print(\"⚠️ Unmatched bank names:\")\n",
    "    print(df[df['bank_id'].isnull()]['bank_name'].unique())\n",
    "\n",
    "# Drop unmatched rows\n",
    "df = df.dropna(subset=['bank_id'])"
   ]
  },
  {
   "cell_type": "code",
   "execution_count": 60,
   "id": "a4980cfa",
   "metadata": {},
   "outputs": [
    {
     "name": "stdout",
     "output_type": "stream",
     "text": [
      "sentiment_score    float64\n",
      "rating               int64\n",
      "dtype: object\n",
      "Empty DataFrame\n",
      "Columns: [review, rating, date, bank, source, cleaned_text, sentiment, sentiment_score, sentiment_label, themes, bank_id]\n",
      "Index: []\n",
      "Empty DataFrame\n",
      "Columns: [review, rating, date, bank, source, cleaned_text, sentiment, sentiment_score, sentiment_label, themes, bank_id]\n",
      "Index: []\n"
     ]
    }
   ],
   "source": [
    "# Check for non-numeric or missing values\n",
    "print(df[['sentiment_score', 'rating']].dtypes)\n",
    "print(df[df['sentiment_score'].isnull()])\n",
    "print(df[df['rating'].isnull()])\n"
   ]
  },
  {
   "cell_type": "code",
   "execution_count": 67,
   "id": "b2d069dc",
   "metadata": {},
   "outputs": [
    {
     "data": {
      "text/html": [
       "<div>\n",
       "<style scoped>\n",
       "    .dataframe tbody tr th:only-of-type {\n",
       "        vertical-align: middle;\n",
       "    }\n",
       "\n",
       "    .dataframe tbody tr th {\n",
       "        vertical-align: top;\n",
       "    }\n",
       "\n",
       "    .dataframe thead th {\n",
       "        text-align: right;\n",
       "    }\n",
       "</style>\n",
       "<table border=\"1\" class=\"dataframe\">\n",
       "  <thead>\n",
       "    <tr style=\"text-align: right;\">\n",
       "      <th></th>\n",
       "      <th>rating</th>\n",
       "      <th>date</th>\n",
       "      <th>bank</th>\n",
       "      <th>cleaned_text</th>\n",
       "      <th>sentiment_score</th>\n",
       "      <th>sentiment_label</th>\n",
       "      <th>bank_id</th>\n",
       "    </tr>\n",
       "  </thead>\n",
       "  <tbody>\n",
       "    <tr>\n",
       "      <th>0</th>\n",
       "      <td>5</td>\n",
       "      <td>2025-06-05</td>\n",
       "      <td>Commercial Bank of Ethiopia</td>\n",
       "      <td>app proactive good connection</td>\n",
       "      <td>0.999832</td>\n",
       "      <td>positive</td>\n",
       "      <td>1</td>\n",
       "    </tr>\n",
       "    <tr>\n",
       "      <th>1</th>\n",
       "      <td>3</td>\n",
       "      <td>2025-06-05</td>\n",
       "      <td>Commercial Bank of Ethiopia</td>\n",
       "      <td>send cbebirr app app</td>\n",
       "      <td>0.979366</td>\n",
       "      <td>negative</td>\n",
       "      <td>1</td>\n",
       "    </tr>\n",
       "    <tr>\n",
       "      <th>2</th>\n",
       "      <td>4</td>\n",
       "      <td>2025-06-05</td>\n",
       "      <td>Commercial Bank of Ethiopia</td>\n",
       "      <td>good</td>\n",
       "      <td>0.999816</td>\n",
       "      <td>positive</td>\n",
       "      <td>1</td>\n",
       "    </tr>\n",
       "    <tr>\n",
       "      <th>3</th>\n",
       "      <td>1</td>\n",
       "      <td>2025-06-04</td>\n",
       "      <td>Commercial Bank of Ethiopia</td>\n",
       "      <td>functional</td>\n",
       "      <td>0.999333</td>\n",
       "      <td>positive</td>\n",
       "      <td>1</td>\n",
       "    </tr>\n",
       "    <tr>\n",
       "      <th>4</th>\n",
       "      <td>1</td>\n",
       "      <td>2025-06-04</td>\n",
       "      <td>Commercial Bank of Ethiopia</td>\n",
       "      <td>everytime uninstall app reach physically oldy ...</td>\n",
       "      <td>0.994766</td>\n",
       "      <td>negative</td>\n",
       "      <td>1</td>\n",
       "    </tr>\n",
       "    <tr>\n",
       "      <th>...</th>\n",
       "      <td>...</td>\n",
       "      <td>...</td>\n",
       "      <td>...</td>\n",
       "      <td>...</td>\n",
       "      <td>...</td>\n",
       "      <td>...</td>\n",
       "      <td>...</td>\n",
       "    </tr>\n",
       "    <tr>\n",
       "      <th>1420</th>\n",
       "      <td>5</td>\n",
       "      <td>2025-01-13</td>\n",
       "      <td>Dashen Bank</td>\n",
       "      <td>well</td>\n",
       "      <td>0.999570</td>\n",
       "      <td>positive</td>\n",
       "      <td>3</td>\n",
       "    </tr>\n",
       "    <tr>\n",
       "      <th>1421</th>\n",
       "      <td>5</td>\n",
       "      <td>2025-01-13</td>\n",
       "      <td>Dashen Bank</td>\n",
       "      <td>waw great innovateduser friendly always one st...</td>\n",
       "      <td>0.999627</td>\n",
       "      <td>positive</td>\n",
       "      <td>3</td>\n",
       "    </tr>\n",
       "    <tr>\n",
       "      <th>1422</th>\n",
       "      <td>5</td>\n",
       "      <td>2025-01-12</td>\n",
       "      <td>Dashen Bank</td>\n",
       "      <td>good waww</td>\n",
       "      <td>0.999860</td>\n",
       "      <td>positive</td>\n",
       "      <td>3</td>\n",
       "    </tr>\n",
       "    <tr>\n",
       "      <th>1423</th>\n",
       "      <td>5</td>\n",
       "      <td>2025-01-12</td>\n",
       "      <td>Dashen Bank</td>\n",
       "      <td>always one step ahead</td>\n",
       "      <td>0.999770</td>\n",
       "      <td>positive</td>\n",
       "      <td>3</td>\n",
       "    </tr>\n",
       "    <tr>\n",
       "      <th>1424</th>\n",
       "      <td>5</td>\n",
       "      <td>2025-01-11</td>\n",
       "      <td>Dashen Bank</td>\n",
       "      <td>like hope work well</td>\n",
       "      <td>0.999778</td>\n",
       "      <td>positive</td>\n",
       "      <td>3</td>\n",
       "    </tr>\n",
       "  </tbody>\n",
       "</table>\n",
       "<p>1425 rows × 7 columns</p>\n",
       "</div>"
      ],
      "text/plain": [
       "      rating       date                         bank  \\\n",
       "0          5 2025-06-05  Commercial Bank of Ethiopia   \n",
       "1          3 2025-06-05  Commercial Bank of Ethiopia   \n",
       "2          4 2025-06-05  Commercial Bank of Ethiopia   \n",
       "3          1 2025-06-04  Commercial Bank of Ethiopia   \n",
       "4          1 2025-06-04  Commercial Bank of Ethiopia   \n",
       "...      ...        ...                          ...   \n",
       "1420       5 2025-01-13                  Dashen Bank   \n",
       "1421       5 2025-01-13                  Dashen Bank   \n",
       "1422       5 2025-01-12                  Dashen Bank   \n",
       "1423       5 2025-01-12                  Dashen Bank   \n",
       "1424       5 2025-01-11                  Dashen Bank   \n",
       "\n",
       "                                           cleaned_text  sentiment_score  \\\n",
       "0                         app proactive good connection         0.999832   \n",
       "1                                  send cbebirr app app         0.979366   \n",
       "2                                                  good         0.999816   \n",
       "3                                            functional         0.999333   \n",
       "4     everytime uninstall app reach physically oldy ...         0.994766   \n",
       "...                                                 ...              ...   \n",
       "1420                                               well         0.999570   \n",
       "1421  waw great innovateduser friendly always one st...         0.999627   \n",
       "1422                                          good waww         0.999860   \n",
       "1423                              always one step ahead         0.999770   \n",
       "1424                                like hope work well         0.999778   \n",
       "\n",
       "     sentiment_label  bank_id  \n",
       "0           positive        1  \n",
       "1           negative        1  \n",
       "2           positive        1  \n",
       "3           positive        1  \n",
       "4           negative        1  \n",
       "...              ...      ...  \n",
       "1420        positive        3  \n",
       "1421        positive        3  \n",
       "1422        positive        3  \n",
       "1423        positive        3  \n",
       "1424        positive        3  \n",
       "\n",
       "[1425 rows x 7 columns]"
      ]
     },
     "execution_count": 67,
     "metadata": {},
     "output_type": "execute_result"
    }
   ],
   "source": [
    "new_df=df.drop(columns=['review','source','sentiment','themes'])\n",
    "new_df"
   ]
  },
  {
   "cell_type": "code",
   "execution_count": 68,
   "id": "94afe148",
   "metadata": {},
   "outputs": [],
   "source": [
    "new_df.to_csv('cleaned_reviews_final.csv', index=False)"
   ]
  },
  {
   "cell_type": "code",
   "execution_count": 61,
   "id": "ef7afb2b",
   "metadata": {},
   "outputs": [
    {
     "data": {
      "text/plain": [
       "Timestamp('2025-06-04 00:00:00')"
      ]
     },
     "execution_count": 61,
     "metadata": {},
     "output_type": "execute_result"
    }
   ],
   "source": [
    "df['date'] = pd.to_datetime(df['date'], errors='coerce')\n",
    "df = df.dropna(subset=['date'])\n",
    "pd.to_datetime(row['date'])\n"
   ]
  },
  {
   "cell_type": "code",
   "execution_count": 63,
   "id": "b650e541",
   "metadata": {},
   "outputs": [],
   "source": [
    "df['date'] = pd.to_datetime(df['date'], errors='coerce')\n",
    "df = df.dropna(subset=['date'])  # Drop rows where date is invalid\n"
   ]
  },
  {
   "cell_type": "code",
   "execution_count": 59,
   "id": "e9af42f8",
   "metadata": {},
   "outputs": [
    {
     "ename": "ProgrammingError",
     "evalue": "('42000', '[42000] [Microsoft][ODBC Driver 17 for SQL Server][SQL Server]The incoming tabular data stream (TDS) remote procedure call (RPC) protocol stream is incorrect. Parameter 5 (\"\"): The supplied value is not a valid instance of data type float. Check the source data for invalid values. An example of an invalid value is data of numeric type with scale greater than precision. (8023) (SQLExecDirectW)')",
     "output_type": "error",
     "traceback": [
      "\u001b[1;31m---------------------------------------------------------------------------\u001b[0m",
      "\u001b[1;31mProgrammingError\u001b[0m                          Traceback (most recent call last)",
      "Cell \u001b[1;32mIn[59], line 3\u001b[0m\n\u001b[0;32m      1\u001b[0m \u001b[38;5;66;03m# --- Step 5: Prepare for INSERT ---\u001b[39;00m\n\u001b[0;32m      2\u001b[0m \u001b[38;5;28;01mfor\u001b[39;00m _, row \u001b[38;5;129;01min\u001b[39;00m df\u001b[38;5;241m.\u001b[39miterrows():\n\u001b[1;32m----> 3\u001b[0m     \u001b[43mcursor\u001b[49m\u001b[38;5;241;43m.\u001b[39;49m\u001b[43mexecute\u001b[49m\u001b[43m(\u001b[49m\u001b[38;5;124;43m\"\"\"\u001b[39;49m\n\u001b[0;32m      4\u001b[0m \u001b[38;5;124;43m        INSERT INTO reviews (\u001b[39;49m\n\u001b[0;32m      5\u001b[0m \u001b[38;5;124;43m            bank_id, review_text, sentiment_label, sentiment_score, \u001b[39;49m\n\u001b[0;32m      6\u001b[0m \u001b[38;5;124;43m            review_date, rating\u001b[39;49m\n\u001b[0;32m      7\u001b[0m \u001b[38;5;124;43m        )\u001b[39;49m\n\u001b[0;32m      8\u001b[0m \u001b[38;5;124;43m        VALUES (?, ?, ?, ?, ?, ?)\u001b[39;49m\n\u001b[0;32m      9\u001b[0m \u001b[38;5;124;43m    \u001b[39;49m\u001b[38;5;124;43m\"\"\"\u001b[39;49m\u001b[43m,\u001b[49m\u001b[43m \u001b[49m\u001b[43m(\u001b[49m\n\u001b[0;32m     10\u001b[0m \u001b[43m        \u001b[49m\u001b[38;5;28;43mint\u001b[39;49m\u001b[43m(\u001b[49m\u001b[43mrow\u001b[49m\u001b[43m[\u001b[49m\u001b[38;5;124;43m'\u001b[39;49m\u001b[38;5;124;43mbank_id\u001b[39;49m\u001b[38;5;124;43m'\u001b[39;49m\u001b[43m]\u001b[49m\u001b[43m)\u001b[49m\u001b[43m,\u001b[49m\n\u001b[0;32m     11\u001b[0m \u001b[43m        \u001b[49m\u001b[43mrow\u001b[49m\u001b[43m[\u001b[49m\u001b[38;5;124;43m'\u001b[39;49m\u001b[38;5;124;43mcleaned_text\u001b[39;49m\u001b[38;5;124;43m'\u001b[39;49m\u001b[43m]\u001b[49m\u001b[43m,\u001b[49m\n\u001b[0;32m     12\u001b[0m \u001b[43m        \u001b[49m\u001b[43mrow\u001b[49m\u001b[43m[\u001b[49m\u001b[38;5;124;43m'\u001b[39;49m\u001b[38;5;124;43msentiment_label\u001b[39;49m\u001b[38;5;124;43m'\u001b[39;49m\u001b[43m]\u001b[49m\u001b[43m,\u001b[49m\n\u001b[0;32m     13\u001b[0m \u001b[43m        \u001b[49m\u001b[38;5;28;43mfloat\u001b[39;49m\u001b[43m(\u001b[49m\u001b[43mrow\u001b[49m\u001b[43m[\u001b[49m\u001b[38;5;124;43m'\u001b[39;49m\u001b[38;5;124;43msentiment_score\u001b[39;49m\u001b[38;5;124;43m'\u001b[39;49m\u001b[43m]\u001b[49m\u001b[43m)\u001b[49m\u001b[43m,\u001b[49m\n\u001b[0;32m     14\u001b[0m \u001b[43m        \u001b[49m\u001b[43mpd\u001b[49m\u001b[38;5;241;43m.\u001b[39;49m\u001b[43mto_datetime\u001b[49m\u001b[43m(\u001b[49m\u001b[43mrow\u001b[49m\u001b[43m[\u001b[49m\u001b[38;5;124;43m'\u001b[39;49m\u001b[38;5;124;43mdate\u001b[39;49m\u001b[38;5;124;43m'\u001b[39;49m\u001b[43m]\u001b[49m\u001b[43m)\u001b[49m\u001b[43m,\u001b[49m\n\u001b[0;32m     15\u001b[0m \u001b[43m        \u001b[49m\u001b[38;5;28;43mint\u001b[39;49m\u001b[43m(\u001b[49m\u001b[43mrow\u001b[49m\u001b[43m[\u001b[49m\u001b[38;5;124;43m'\u001b[39;49m\u001b[38;5;124;43mrating\u001b[39;49m\u001b[38;5;124;43m'\u001b[39;49m\u001b[43m]\u001b[49m\u001b[43m)\u001b[49m\n\u001b[0;32m     16\u001b[0m \u001b[43m        \u001b[49m\n\u001b[0;32m     17\u001b[0m \u001b[43m    \u001b[49m\u001b[43m)\u001b[49m\u001b[43m)\u001b[49m\n",
      "\u001b[1;31mProgrammingError\u001b[0m: ('42000', '[42000] [Microsoft][ODBC Driver 17 for SQL Server][SQL Server]The incoming tabular data stream (TDS) remote procedure call (RPC) protocol stream is incorrect. Parameter 5 (\"\"): The supplied value is not a valid instance of data type float. Check the source data for invalid values. An example of an invalid value is data of numeric type with scale greater than precision. (8023) (SQLExecDirectW)')"
     ]
    }
   ],
   "source": [
    "# --- Step 5: Prepare for INSERT ---\n",
    "for _, row in df.iterrows():\n",
    "    cursor.execute(\"\"\"\n",
    "        INSERT INTO reviews (\n",
    "            bank_id, review_text, sentiment_label, sentiment_score, \n",
    "            review_date, rating\n",
    "        )\n",
    "        VALUES (?, ?, ?, ?, ?, ?)\n",
    "    \"\"\", (\n",
    "        int(row['bank_id']),\n",
    "        row['cleaned_text'],\n",
    "        row['sentiment_label'],\n",
    "        float(row['sentiment_score']),\n",
    "        pd.to_datetime(row['date']),\n",
    "        int(row['rating'])\n",
    "        \n",
    "    ))\n",
    "                "
   ]
  },
  {
   "cell_type": "code",
   "execution_count": 49,
   "id": "ec4220a6",
   "metadata": {},
   "outputs": [
    {
     "ename": "ProgrammingError",
     "evalue": "('42000', '[42000] [Microsoft][ODBC Driver 17 for SQL Server][SQL Server]The incoming tabular data stream (TDS) remote procedure call (RPC) protocol stream is incorrect. Parameter 5 (\"\"): The supplied value is not a valid instance of data type float. Check the source data for invalid values. An example of an invalid value is data of numeric type with scale greater than precision. (8023) (SQLExecDirectW)')",
     "output_type": "error",
     "traceback": [
      "\u001b[1;31m---------------------------------------------------------------------------\u001b[0m",
      "\u001b[1;31mProgrammingError\u001b[0m                          Traceback (most recent call last)",
      "Cell \u001b[1;32mIn[49], line 7\u001b[0m\n\u001b[0;32m      5\u001b[0m \u001b[38;5;28;01mif\u001b[39;00m bank_name \u001b[38;5;129;01min\u001b[39;00m bank_id_map:\n\u001b[0;32m      6\u001b[0m     bank_id \u001b[38;5;241m=\u001b[39m bank_id_map[bank_name]\n\u001b[1;32m----> 7\u001b[0m     \u001b[43mcursor\u001b[49m\u001b[38;5;241;43m.\u001b[39;49m\u001b[43mexecute\u001b[49m\u001b[43m(\u001b[49m\u001b[38;5;124;43m\"\"\"\u001b[39;49m\n\u001b[0;32m      8\u001b[0m \u001b[38;5;124;43m        INSERT INTO reviews (bank_id, review_text, rating, sentiment_label, review_date)\u001b[39;49m\n\u001b[0;32m      9\u001b[0m \u001b[38;5;124;43m        VALUES (?, ?, ?, ?, ?)\u001b[39;49m\n\u001b[0;32m     10\u001b[0m \u001b[38;5;124;43m    \u001b[39;49m\u001b[38;5;124;43m\"\"\"\u001b[39;49m\u001b[43m,\u001b[49m\u001b[43m \u001b[49m\u001b[43m(\u001b[49m\n\u001b[0;32m     11\u001b[0m \u001b[43m        \u001b[49m\u001b[43mbank_id\u001b[49m\u001b[43m,\u001b[49m\n\u001b[0;32m     12\u001b[0m \u001b[43m        \u001b[49m\u001b[43mrow\u001b[49m\u001b[43m[\u001b[49m\u001b[38;5;124;43m'\u001b[39;49m\u001b[38;5;124;43mcleaned_text\u001b[39;49m\u001b[38;5;124;43m'\u001b[39;49m\u001b[43m]\u001b[49m\u001b[43m,\u001b[49m\n\u001b[0;32m     13\u001b[0m \u001b[43m        \u001b[49m\u001b[43mrow\u001b[49m\u001b[43m[\u001b[49m\u001b[38;5;124;43m'\u001b[39;49m\u001b[38;5;124;43mrating\u001b[39;49m\u001b[38;5;124;43m'\u001b[39;49m\u001b[43m]\u001b[49m\u001b[43m,\u001b[49m\n\u001b[0;32m     14\u001b[0m \u001b[43m        \u001b[49m\u001b[43mrow\u001b[49m\u001b[43m[\u001b[49m\u001b[38;5;124;43m'\u001b[39;49m\u001b[38;5;124;43msentiment_label\u001b[39;49m\u001b[38;5;124;43m'\u001b[39;49m\u001b[43m]\u001b[49m\u001b[43m,\u001b[49m\n\u001b[0;32m     15\u001b[0m \u001b[43m        \u001b[49m\n\u001b[0;32m     16\u001b[0m \u001b[43m        \u001b[49m\u001b[43mrow\u001b[49m\u001b[43m[\u001b[49m\u001b[38;5;124;43m'\u001b[39;49m\u001b[38;5;124;43mdate\u001b[39;49m\u001b[38;5;124;43m'\u001b[39;49m\u001b[43m]\u001b[49m\n\u001b[0;32m     17\u001b[0m \u001b[43m    \u001b[49m\u001b[43m)\u001b[49m\u001b[43m)\u001b[49m\n\u001b[0;32m     18\u001b[0m \u001b[38;5;28;01melse\u001b[39;00m:\n\u001b[0;32m     19\u001b[0m     \u001b[38;5;28mprint\u001b[39m(\u001b[38;5;124mf\u001b[39m\u001b[38;5;124m\"\u001b[39m\u001b[38;5;124mWarning: Bank \u001b[39m\u001b[38;5;124m'\u001b[39m\u001b[38;5;132;01m{\u001b[39;00mbank_name\u001b[38;5;132;01m}\u001b[39;00m\u001b[38;5;124m'\u001b[39m\u001b[38;5;124m not found in bank_id_map. Skipping this review.\u001b[39m\u001b[38;5;124m\"\u001b[39m)\n",
      "\u001b[1;31mProgrammingError\u001b[0m: ('42000', '[42000] [Microsoft][ODBC Driver 17 for SQL Server][SQL Server]The incoming tabular data stream (TDS) remote procedure call (RPC) protocol stream is incorrect. Parameter 5 (\"\"): The supplied value is not a valid instance of data type float. Check the source data for invalid values. An example of an invalid value is data of numeric type with scale greater than precision. (8023) (SQLExecDirectW)')"
     ]
    }
   ],
   "source": []
  },
  {
   "cell_type": "code",
   "execution_count": 51,
   "id": "fa89bf19",
   "metadata": {},
   "outputs": [
    {
     "name": "stdout",
     "output_type": "stream",
     "text": [
      "nan\n"
     ]
    }
   ],
   "source": [
    "print (row['cleaned_text'])"
   ]
  }
 ],
 "metadata": {
  "kernelspec": {
   "display_name": "Python 3 (ipykernel)",
   "language": "python",
   "name": "python3"
  },
  "language_info": {
   "codemirror_mode": {
    "name": "ipython",
    "version": 3
   },
   "file_extension": ".py",
   "mimetype": "text/x-python",
   "name": "python",
   "nbconvert_exporter": "python",
   "pygments_lexer": "ipython3",
   "version": "3.11.2"
  }
 },
 "nbformat": 4,
 "nbformat_minor": 5
}
